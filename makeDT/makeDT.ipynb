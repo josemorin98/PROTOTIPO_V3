{
 "cells": [
  {
   "cell_type": "code",
   "execution_count": 2,
   "id": "b6462acd",
   "metadata": {},
   "outputs": [],
   "source": [
    "import numpy as np\n",
    "import scipy as sc\n",
    "import json\n",
    "import pandas as pd\n",
    "from scipy import stats\n",
    "import datetime\n",
    "import string"
   ]
  },
  {
   "cell_type": "code",
   "execution_count": 3,
   "id": "dcef4ab1",
   "metadata": {},
   "outputs": [],
   "source": [
    "def readJson(nameFile, column):\n",
    "    f = open(nameFile)\n",
    "    # returns JSON object as\n",
    "    # a dictionary\n",
    "    data = json.load(f)\n",
    "    # Iterating through the json\n",
    "    # list\n",
    "    listr = list()\n",
    "    for i in data:\n",
    "        listr.append(i[column])\n",
    "    # Closing file\n",
    "    f.close()\n",
    "    return listr"
   ]
  },
  {
   "cell_type": "markdown",
   "id": "8218f3a4",
   "metadata": {},
   "source": [
    "# Generate STATES and DATES"
   ]
  },
  {
   "cell_type": "code",
   "execution_count": 4,
   "id": "fb118719",
   "metadata": {},
   "outputs": [],
   "source": [
    "cantRows = 100\n",
    "def dateStates(cantRows=10000,numPeriods=20, freq=\"Y\"):\n",
    "    statesList = readJson(\"states.json\",\"name\")\n",
    "    numdays = 20\n",
    "    # base = datetime.datetime.today()\n",
    "    # date_list = [base - datetime.timedelta(days=x) for x in range(numdays)]\n",
    "    # dateList = \n",
    "    dateList = pd.date_range(start=\"2000-01-01\", periods=numdays, freq=freq)\n",
    "    dateList = dateList.strftime(\"%Y-%m-%d %H:%M:%S\").tolist()\n",
    "    dates = np.random.choice(dateList,cantRows)\n",
    "    states = np.random.choice(statesList,cantRows)\n",
    "    return dates,states"
   ]
  },
  {
   "cell_type": "markdown",
   "id": "ba01bda5",
   "metadata": {},
   "source": [
    "# Generate VARIABLES"
   ]
  },
  {
   "cell_type": "code",
   "execution_count": 5,
   "id": "dbf76000",
   "metadata": {},
   "outputs": [],
   "source": [
    "\n",
    "def generator_vals(mu=5,a=1,num=8000):\n",
    "  # mu, sigma = 1, 0.5 # media y desvio estandar  \n",
    "    x_norm_r = stats.norm.rvs(mu,size=num)  \n",
    "    x_gama_r = stats.gamma.rvs(a,loc=0,size=num)\n",
    "    x_chi_r = stats.chi.rvs(mu,size=num)\n",
    "    return x_norm_r, x_gama_r, x_chi_r"
   ]
  },
  {
   "cell_type": "code",
   "execution_count": 6,
   "id": "387896c3",
   "metadata": {},
   "outputs": [],
   "source": [
    "def dataSet(cantRows=10000, numPeriods=20, freq=\"Y\"):\n",
    "      # dias  y estados\n",
    "      dates, states = dateStates(cantRows, numPeriods)\n",
    "      # json\n",
    "      data={\"state\":states,\n",
    "            \"fecha\":dates}\n",
    "      # variables\n",
    "      abc = string.ascii_uppercase\n",
    "      # generate variables\n",
    "      cont = 0\n",
    "      for x in range(3):\n",
    "            d1,d2,d3=generator_vals(num=cantRows)\n",
    "            data[abc[cont]] = d1\n",
    "            cont += 1\n",
    "            data[abc[cont]] = d2\n",
    "            cont += 1\n",
    "            data[abc[cont]] = d3\n",
    "            cont += 1\n",
    "      # print(data.keys())\n",
    "      dfResult = pd.DataFrame(data)\n",
    "      return dfResult"
   ]
  },
  {
   "cell_type": "code",
   "execution_count": 7,
   "id": "ec763a68",
   "metadata": {},
   "outputs": [],
   "source": [
    "# 10k\n",
    "cants = [10000000,1000000,100000]\n",
    "for pos,c in enumerate(cants):\n",
    "    df = dataSet(cantRows=c,numPeriods=30, freq=\"Y\")\n",
    "    df.to_csv(\"df{}_{}k.csv\".format(pos,c), index=False)"
   ]
  },
  {
   "cell_type": "code",
   "execution_count": null,
   "id": "5feb3a82",
   "metadata": {},
   "outputs": [],
   "source": []
  }
 ],
 "metadata": {
  "interpreter": {
   "hash": "916dbcbb3f70747c44a77c7bcd40155683ae19c65e1c03b4aa3499c5328201f1"
  },
  "kernelspec": {
   "display_name": "Python 3 (ipykernel)",
   "language": "python",
   "name": "python3"
  },
  "language_info": {
   "codemirror_mode": {
    "name": "ipython",
    "version": 3
   },
   "file_extension": ".py",
   "mimetype": "text/x-python",
   "name": "python",
   "nbconvert_exporter": "python",
   "pygments_lexer": "ipython3",
   "version": "3.8.10"
  }
 },
 "nbformat": 4,
 "nbformat_minor": 5
}
